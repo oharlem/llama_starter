{
 "cells": [
  {
   "cell_type": "code",
   "execution_count": 1,
   "id": "6087cd68-dab9-43a9-a0d8-864ae2168e91",
   "metadata": {},
   "outputs": [],
   "source": [
    "from llama_index.core import VectorStoreIndex, SimpleDirectoryReader, Settings\n",
    "from llama_index.embeddings.huggingface import HuggingFaceEmbedding\n",
    "from llama_index.llms.ollama import Ollama"
   ]
  },
  {
   "cell_type": "markdown",
   "id": "7304c079-3d06-4b68-bb26-a7cd0f1e0c85",
   "metadata": {},
   "source": [
    "## Load data"
   ]
  },
  {
   "cell_type": "code",
   "execution_count": 2,
   "id": "114bd6b2-be89-41a3-8aac-a7c49746c674",
   "metadata": {},
   "outputs": [],
   "source": [
    "# https://docs.llamaindex.ai/en/stable/module_guides/loading/simpledirectoryreader/ \n",
    "documents = SimpleDirectoryReader(\"data\").load_data()"
   ]
  },
  {
   "cell_type": "code",
   "execution_count": 27,
   "id": "3c3adc49-5d2b-4813-bf81-0637d3891ecc",
   "metadata": {},
   "outputs": [
    {
     "name": "stdout",
     "output_type": "stream",
     "text": [
      "Doc ID: 8865b5a0-5a92-4f87-96b1-6ff2d4c7eee6\n",
      "Text: What I Worked On  February 2021  Before college the two main\n",
      "things I worked on, outside of school, were writing and programming. I\n",
      "didn't write essays. I wrote what beginning writers were supposed to\n",
      "write then, and probably still are: short stories. My stories were\n",
      "awful. They had hardly any plot, just characters with strong feelings,\n",
      "which I ...\n"
     ]
    }
   ],
   "source": [
    "# Loads data into Document objets\n",
    "print(documents[0])"
   ]
  },
  {
   "cell_type": "markdown",
   "id": "f7f817ba-c4e4-4d74-b92f-df7478b1150c",
   "metadata": {},
   "source": [
    "## Embedding config"
   ]
  },
  {
   "cell_type": "code",
   "execution_count": 28,
   "id": "2ec8a7f5-e26c-410f-9d94-cff218de2c73",
   "metadata": {},
   "outputs": [],
   "source": [
    "# bge-base embedding model\n",
    "Settings.embed_model = HuggingFaceEmbedding(model_name=\"BAAI/bge-base-en-v1.5\")"
   ]
  },
  {
   "cell_type": "markdown",
   "id": "65094776-7eca-4ce3-985e-4eabcadb94fd",
   "metadata": {},
   "source": [
    "## LLM connection"
   ]
  },
  {
   "cell_type": "code",
   "execution_count": 10,
   "id": "1faa831f-abc2-4400-93e9-d878fd6f889e",
   "metadata": {},
   "outputs": [],
   "source": [
    "# ollama\n",
    "Settings.llm = Ollama(model=\"llama3.1\", request_timeout=360.0)"
   ]
  },
  {
   "cell_type": "markdown",
   "id": "10d08ba8-f407-4094-90f4-5597054e7ffb",
   "metadata": {},
   "source": [
    "## Building an index"
   ]
  },
  {
   "cell_type": "code",
   "execution_count": 29,
   "id": "946160b4-ab92-41cb-ad25-8dd7a10219cc",
   "metadata": {},
   "outputs": [],
   "source": [
    "# This builds an index over the documents in the data folder \n",
    "# (which in this case just consists of the essay text, but could contain many documents).\n",
    "\n",
    "# https://docs.llamaindex.ai/en/stable/module_guides/indexing/vector_store_index/\n",
    "# \"By default, VectorStoreIndex stores everything in memory\"\n",
    "\n",
    "index = VectorStoreIndex.from_documents(\n",
    "    documents,\n",
    ")"
   ]
  },
  {
   "cell_type": "markdown",
   "id": "c76a66a9-ac0c-4a31-856e-07993c050df3",
   "metadata": {},
   "source": [
    "## Querying data"
   ]
  },
  {
   "cell_type": "code",
   "execution_count": 30,
   "id": "2ae695bf-1481-471b-af25-4447cab60ecd",
   "metadata": {},
   "outputs": [],
   "source": [
    "# Enginer to query the index\n",
    "\n",
    "# https://docs.llamaindex.ai/en/stable/module_guides/deploying/query_engine/\n",
    "# \"If you want to have a conversation with your data (multiple back-and-forth instead of a single question & answer), \n",
    "# take a look at Chat Engine\"\n",
    "\n",
    "\n",
    "query_engine = index.as_query_engine()"
   ]
  },
  {
   "cell_type": "code",
   "execution_count": 31,
   "id": "74a47a61-3abc-4154-998a-2cc3e3895dad",
   "metadata": {},
   "outputs": [
    {
     "name": "stdout",
     "output_type": "stream",
     "text": [
      "The author worked on writing short stories outside of school and also tried to write programs on an IBM 1401 computer in their early teenage years.\n"
     ]
    }
   ],
   "source": [
    "# https://docs.llamaindex.ai/en/stable/understanding/querying/querying/\n",
    "# \" querying is just a prompt call to an LLM\"\n",
    "# Querying consists of three distinct stages:\n",
    "# 1. Retrieval is when you find and return the most relevant documents for your query from your Index. As previously discussed in indexing, the most common type of retrieval is \"top-k\" semantic retrieval, but there are many other retrieval strategies.\n",
    "# 2. Postprocessing is when the Nodes retrieved are optionally reranked, transformed, or filtered, for instance by requiring that they have specific metadata such as keywords attached.\n",
    "# 3. Response synthesis is when your query, your most-relevant data and your prompt are combined and sent to your LLM to return a response.\n",
    "\n",
    "response = query_engine.query(\"What did the author do growing up?\")\n",
    "print(response)"
   ]
  }
 ],
 "metadata": {
  "kernelspec": {
   "display_name": "Python 3 (ipykernel)",
   "language": "python",
   "name": "python3"
  },
  "language_info": {
   "codemirror_mode": {
    "name": "ipython",
    "version": 3
   },
   "file_extension": ".py",
   "mimetype": "text/x-python",
   "name": "python",
   "nbconvert_exporter": "python",
   "pygments_lexer": "ipython3",
   "version": "3.12.4"
  }
 },
 "nbformat": 4,
 "nbformat_minor": 5
}
